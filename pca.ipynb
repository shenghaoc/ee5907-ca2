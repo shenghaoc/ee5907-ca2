{
  "nbformat": 4,
  "nbformat_minor": 0,
  "metadata": {
    "colab": {
      "name": "pca.ipynb",
      "provenance": [],
      "collapsed_sections": [],
      "authorship_tag": "ABX9TyMRNNq/4LYPkaI1p/VkpaaR",
      "include_colab_link": true
    },
    "kernelspec": {
      "name": "python3",
      "display_name": "Python 3"
    },
    "language_info": {
      "name": "python"
    }
  },
  "cells": [
    {
      "cell_type": "markdown",
      "metadata": {
        "id": "view-in-github",
        "colab_type": "text"
      },
      "source": [
        "<a href=\"https://colab.research.google.com/github/shenghaoc/ee5907-ca2/blob/main/pca.ipynb\" target=\"_parent\"><img src=\"https://colab.research.google.com/assets/colab-badge.svg\" alt=\"Open In Colab\"/></a>"
      ]
    },
    {
      "cell_type": "code",
      "metadata": {
        "id": "Be2j0bVUqSv-"
      },
      "source": [
        "import numpy as np\n",
        "from PIL import Image\n",
        "from numpy.random import default_rng\n",
        "from pathlib import Path"
      ],
      "execution_count": 6,
      "outputs": []
    },
    {
      "cell_type": "code",
      "metadata": {
        "id": "GVYTY3O02AOM"
      },
      "source": [
        "NUM_SUBJECTS = 68\n",
        "NUM_CHOSEN = 25\n",
        "NUM_IMAGES_PER_SUBJECT = 170\n",
        "TRAIN_RATIO = 0.7\n",
        "NUM_TRAIN = int(TRAIN_RATIO * NUM_IMAGES_PER_SUBJECT)\n",
        "SEED1 = 2021\n",
        "SEED2 = 2022"
      ],
      "execution_count": 7,
      "outputs": []
    },
    {
      "cell_type": "code",
      "metadata": {
        "id": "St_cJ9OkzVKW"
      },
      "source": [
        "# Must start from 1 to accommodate folder naming scheme\n",
        "# Choose NUM_CHOSEN elements from NUM_SUBJECTS integers without replacement\n",
        "chosen = np.random.default_rng(SEED1).choice(np.arange(1, NUM_SUBJECTS + 1), NUM_CHOSEN, replace=False)"
      ],
      "execution_count": 8,
      "outputs": []
    },
    {
      "cell_type": "code",
      "metadata": {
        "id": "-Q98wx6Z_V2T"
      },
      "source": [
        "# Load images from disk\n",
        "# Use lists for manual looping without use of numpy functions\n",
        "images = []\n",
        "labels = []\n",
        "\n",
        "# Assume PIE is in pwd\n",
        "directory = Path('PIE')\n",
        "for i in chosen:\n",
        "    # Do not flatten yet, need to split train and test for each subject\n",
        "    subject_images = []\n",
        "    subject_labels = []\n",
        "    subdirectory = directory / str(i)\n",
        "    # Order is arbitrary for glob, good enough to split later without shuffling\n",
        "    # Also no need to state selection in report\n",
        "    for filename in subdirectory.glob('*.jpg'):\n",
        "        # PIL is slower but OpenCV is unnecessary\n",
        "        im = Image.open(filename)\n",
        "        subject_images.append(np.array(im))\n",
        "        subject_labels.append(i)\n",
        "    images.append(subject_images)\n",
        "    labels.append(subject_labels)"
      ],
      "execution_count": 9,
      "outputs": []
    },
    {
      "cell_type": "code",
      "metadata": {
        "id": "W1eX9T9YLffp"
      },
      "source": [
        "# Further processing without disk access\n",
        "images_train, images_test = np.split(np.array(images), [NUM_TRAIN], axis=1)\n",
        "labels_train, labels_test = np.split(np.array(labels), [NUM_TRAIN], axis=1)"
      ],
      "execution_count": 10,
      "outputs": []
    }
  ]
}